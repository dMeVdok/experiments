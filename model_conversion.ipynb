{
  "cells": [
    {
      "cell_type": "markdown",
      "source": [
        "This is a notebook with different model conversion techniques\n",
        "\n",
        "**Torch ↔ ONNX**\n",
        "\n",
        "**ONNX → Tensorflow SavedModel**\n",
        "\n",
        "**Tensorflow SavedModel → TFLite**\n",
        "\n",
        "**JAX → TFLite**\n",
        "\n",
        "**TFLite → ONNX**\n",
        "\n",
        "\n",
        "\n",
        "\n",
        "\n"
      ],
      "metadata": {
        "id": "RPmOZ_IbTfAp"
      },
      "id": "RPmOZ_IbTfAp"
    },
    {
      "cell_type": "markdown",
      "id": "4bf7f871",
      "metadata": {
        "id": "4bf7f871"
      },
      "source": [
        "## PyTorch function → PyTorch Module"
      ]
    },
    {
      "cell_type": "code",
      "source": [
        "import torch\n",
        "\n",
        "class Lambda(torch.nn.Module):\n",
        "    def __init__(self, func):\n",
        "        super().__init__()\n",
        "        self.func = func\n",
        "\n",
        "    def forward(self, x):\n",
        "        return self.func(x)\n",
        "\n",
        "sq_torch_module = Lambda(lambda x: x**2)"
      ],
      "metadata": {
        "id": "Fu6LTMnc5j1L"
      },
      "id": "Fu6LTMnc5j1L",
      "execution_count": 2,
      "outputs": []
    },
    {
      "cell_type": "markdown",
      "source": [
        "## PyTorch model → ONNX"
      ],
      "metadata": {
        "id": "GmEB6bxzCDZZ"
      },
      "id": "GmEB6bxzCDZZ"
    },
    {
      "cell_type": "code",
      "execution_count": 3,
      "id": "6c5d2b6c",
      "metadata": {
        "colab": {
          "base_uri": "https://localhost:8080/"
        },
        "id": "6c5d2b6c",
        "outputId": "68b44850-c086-46e5-fc54-2e0636d17d15"
      },
      "outputs": [
        {
          "output_type": "stream",
          "name": "stdout",
          "text": [
            "\u001b[2K     \u001b[90m━━━━━━━━━━━━━━━━━━━━━━━━━━━━━━━━━━━━━━━━\u001b[0m \u001b[32m15.7/15.7 MB\u001b[0m \u001b[31m32.2 MB/s\u001b[0m eta \u001b[36m0:00:00\u001b[0m\n",
            "\u001b[2K     \u001b[90m━━━━━━━━━━━━━━━━━━━━━━━━━━━━━━━━━━━━━━━━\u001b[0m \u001b[32m226.1/226.1 kB\u001b[0m \u001b[31m2.1 MB/s\u001b[0m eta \u001b[36m0:00:00\u001b[0m\n",
            "\u001b[2K     \u001b[90m━━━━━━━━━━━━━━━━━━━━━━━━━━━━━━━━━━━━━━━━\u001b[0m \u001b[32m611.8/611.8 kB\u001b[0m \u001b[31m9.4 MB/s\u001b[0m eta \u001b[36m0:00:00\u001b[0m\n",
            "\u001b[2K     \u001b[90m━━━━━━━━━━━━━━━━━━━━━━━━━━━━━━━━━━━━━━━━\u001b[0m \u001b[32m6.4/6.4 MB\u001b[0m \u001b[31m40.4 MB/s\u001b[0m eta \u001b[36m0:00:00\u001b[0m\n",
            "\u001b[2K     \u001b[90m━━━━━━━━━━━━━━━━━━━━━━━━━━━━━━━━━━━━━━━━\u001b[0m \u001b[32m46.0/46.0 kB\u001b[0m \u001b[31m4.3 MB/s\u001b[0m eta \u001b[36m0:00:00\u001b[0m\n",
            "\u001b[2K     \u001b[90m━━━━━━━━━━━━━━━━━━━━━━━━━━━━━━━━━━━━━━━━\u001b[0m \u001b[32m86.8/86.8 kB\u001b[0m \u001b[31m10.1 MB/s\u001b[0m eta \u001b[36m0:00:00\u001b[0m\n",
            "\u001b[?25h"
          ]
        }
      ],
      "source": [
        "!pip install -U onnx --quiet\n",
        "!pip install -U onnx-tf --quiet\n",
        "!pip install -U onnxruntime --quiet"
      ]
    },
    {
      "cell_type": "code",
      "execution_count": 6,
      "id": "397ecac5",
      "metadata": {
        "id": "397ecac5"
      },
      "outputs": [],
      "source": [
        "import torch.onnx\n",
        "\n",
        "torch.onnx.export(\n",
        "    sq_torch_module,\n",
        "    torch.tensor([1,2,3], dtype=torch.float32),\n",
        "    f=\"temp.onnx\",\n",
        "    verbose=True,\n",
        "    export_params=True,\n",
        "    input_names=['input'],\n",
        "    output_names=['output'],\n",
        "    dynamic_axes={\n",
        "        'input': [0],\n",
        "        'output': [0]\n",
        "    }\n",
        ")"
      ]
    },
    {
      "cell_type": "markdown",
      "source": [
        "Run model in ONNX runtime"
      ],
      "metadata": {
        "id": "zvTWmtxWWTdi"
      },
      "id": "zvTWmtxWWTdi"
    },
    {
      "cell_type": "code",
      "source": [
        "import onnxruntime\n",
        "import numpy as np\n",
        "\n",
        "ort_session = onnxruntime.InferenceSession(\"temp.onnx\", providers=[\"CPUExecutionProvider\"])\n",
        "\n",
        "ort_inputs = {'input': np.array([3,4,5,6], dtype=np.float32)}\n",
        "ort_outs = ort_session.run(None, ort_inputs)\n",
        "\n",
        "ort_outs"
      ],
      "metadata": {
        "colab": {
          "base_uri": "https://localhost:8080/"
        },
        "id": "U2yVCFiWU18b",
        "outputId": "6b857f9c-9340-4be9-f22e-e1b2d5cd0007"
      },
      "id": "U2yVCFiWU18b",
      "execution_count": 5,
      "outputs": [
        {
          "output_type": "execute_result",
          "data": {
            "text/plain": [
              "[array([ 9., 16., 25., 36.], dtype=float32)]"
            ]
          },
          "metadata": {},
          "execution_count": 5
        }
      ]
    },
    {
      "cell_type": "markdown",
      "source": [
        "## ONNX → Tensorflow Model"
      ],
      "metadata": {
        "id": "rDIg6bB0CH5b"
      },
      "id": "rDIg6bB0CH5b"
    },
    {
      "cell_type": "code",
      "execution_count": 9,
      "id": "01ac570d",
      "metadata": {
        "id": "01ac570d"
      },
      "outputs": [],
      "source": [
        "import onnx\n",
        "from onnx_tf.backend import prepare\n",
        "import tensorflow as tf\n",
        "\n",
        "onnx_model = onnx.load(\"./temp.onnx\")\n",
        "tf_sq_rep = prepare(onnx_model)"
      ]
    },
    {
      "cell_type": "code",
      "source": [
        "tf_sq_rep.run(tf.constant([2,4,6,8,3], dtype=tf.float32)) # running in ONNX runtime"
      ],
      "metadata": {
        "colab": {
          "base_uri": "https://localhost:8080/"
        },
        "id": "-2CoFVKj4Omq",
        "outputId": "3ceafb6d-fc69-4063-899a-c36e836051d5"
      },
      "id": "-2CoFVKj4Omq",
      "execution_count": 10,
      "outputs": [
        {
          "output_type": "execute_result",
          "data": {
            "text/plain": [
              "Outputs(output=array([ 4., 16., 36., 64.,  9.], dtype=float32))"
            ]
          },
          "metadata": {},
          "execution_count": 10
        }
      ]
    },
    {
      "cell_type": "code",
      "source": [
        "tf_sq_rep.export_graph('./temp.pb') # save to tensorflow model"
      ],
      "metadata": {
        "id": "fOgULLrA4ScV"
      },
      "id": "fOgULLrA4ScV",
      "execution_count": 11,
      "outputs": []
    },
    {
      "cell_type": "code",
      "source": [
        "tf_sq_saved_model = tf.saved_model.load('./temp.pb') # load tensorflow model"
      ],
      "metadata": {
        "id": "vpVXC2ch-sCl"
      },
      "id": "vpVXC2ch-sCl",
      "execution_count": 12,
      "outputs": []
    },
    {
      "cell_type": "code",
      "source": [
        "tf_sq_saved_model.signatures['serving_default'](input=tf.constant([1,2,3,4], dtype=tf.float32)) # inference"
      ],
      "metadata": {
        "colab": {
          "base_uri": "https://localhost:8080/"
        },
        "id": "S8R3WWfus-nn",
        "outputId": "1db2727c-321b-49ac-b463-9eb9c949a12b"
      },
      "id": "S8R3WWfus-nn",
      "execution_count": 13,
      "outputs": [
        {
          "output_type": "execute_result",
          "data": {
            "text/plain": [
              "{'output': <tf.Tensor: shape=(4,), dtype=float32, numpy=array([ 1.,  4.,  9., 16.], dtype=float32)>}"
            ]
          },
          "metadata": {},
          "execution_count": 13
        }
      ]
    },
    {
      "cell_type": "markdown",
      "source": [
        "## Tensorflow → TFLite"
      ],
      "metadata": {
        "id": "6B7VCpH3K4md"
      },
      "id": "6B7VCpH3K4md"
    },
    {
      "cell_type": "code",
      "source": [
        "converter = tf.lite.TFLiteConverter.from_saved_model(\n",
        "    'temp_fixed.pb'\n",
        ")\n",
        "\n",
        "converter.optimizations = [tf.lite.Optimize.DEFAULT]\n",
        "converter.experimental_new_converter = True\n",
        "converter.target_spec.supported_ops = [tf.lite.OpsSet.TFLITE_BUILTINS, tf.lite.OpsSet.SELECT_TF_OPS]\n",
        "\n",
        "tf_sq_lite_model = converter.convert()"
      ],
      "metadata": {
        "id": "ZHDnARWdEmpD"
      },
      "id": "ZHDnARWdEmpD",
      "execution_count": 15,
      "outputs": []
    },
    {
      "cell_type": "code",
      "source": [
        "input_tensor = np.array([5,6,7,8], dtype=np.float32)\n",
        "\n",
        "interpreter = tf.lite.Interpreter(model_content=tf_sq_lite_model)\n",
        "input = interpreter.get_input_details()[0]\n",
        "interpreter.resize_tensor_input(input['index'], input_tensor.shape)\n",
        "output = interpreter.get_output_details()[0]\n",
        "interpreter.allocate_tensors()\n",
        "interpreter.invoke()\n",
        "interpreter.set_tensor(input['index'], input_tensor)\n",
        "interpreter.invoke()\n",
        "interpreter.get_tensor(output['index'])"
      ],
      "metadata": {
        "colab": {
          "base_uri": "https://localhost:8080/"
        },
        "id": "uNDbuxg2GAAo",
        "outputId": "143d81b3-a407-4f4c-f15b-3385b0f31340"
      },
      "id": "uNDbuxg2GAAo",
      "execution_count": 18,
      "outputs": [
        {
          "output_type": "execute_result",
          "data": {
            "text/plain": [
              "array([25., 36., 49., 64.], dtype=float32)"
            ]
          },
          "metadata": {},
          "execution_count": 18
        }
      ]
    },
    {
      "cell_type": "markdown",
      "source": [
        "## JAX → TFLite\n",
        "\n"
      ],
      "metadata": {
        "id": "FqyCzQxcEK63"
      },
      "id": "FqyCzQxcEK63"
    },
    {
      "cell_type": "code",
      "source": [
        "import jax.numpy as jnp\n",
        "import jax"
      ],
      "metadata": {
        "id": "uJA_o6fuBsb-"
      },
      "id": "uJA_o6fuBsb-",
      "execution_count": 22,
      "outputs": []
    },
    {
      "cell_type": "code",
      "source": [
        "@jax.jit\n",
        "def jax_sq(x):\n",
        "  return x**2"
      ],
      "metadata": {
        "id": "0d7F5VpTD_z0"
      },
      "id": "0d7F5VpTD_z0",
      "execution_count": 45,
      "outputs": []
    },
    {
      "cell_type": "code",
      "source": [
        "input_size = (3,)\n",
        "\n",
        "converter = tf.lite.TFLiteConverter.experimental_from_jax(\n",
        "    [jax_sq],\n",
        "    [[('x', jnp.zeros(input_size))]]\n",
        ")\n",
        "\n",
        "converter.optimizations = [tf.lite.Optimize.DEFAULT]\n",
        "converter.experimental_new_converter = True\n",
        "converter.target_spec.supported_ops = [tf.lite.OpsSet.TFLITE_BUILTINS, tf.lite.OpsSet.SELECT_TF_OPS]\n",
        "\n",
        "tf_jax_sq_lite_model = converter.convert()"
      ],
      "metadata": {
        "id": "J59vZFUwaRlD"
      },
      "id": "J59vZFUwaRlD",
      "execution_count": 46,
      "outputs": []
    },
    {
      "cell_type": "code",
      "source": [
        "input_tensor = np.array([7,6,5], dtype=np.float32)\n",
        "\n",
        "interpreter = tf.lite.Interpreter(model_content=tf_jax_sq_lite_model)\n",
        "interpreter.allocate_tensors()\n",
        "input_details = interpreter.get_input_details()\n",
        "output_details = interpreter.get_output_details()\n",
        "interpreter.set_tensor(input_details[0][\"index\"], input_tensor)\n",
        "interpreter.invoke()\n",
        "interpreter.get_tensor(output_details[0][\"index\"])"
      ],
      "metadata": {
        "colab": {
          "base_uri": "https://localhost:8080/"
        },
        "id": "o06hpkMCbWQI",
        "outputId": "bccd4d0d-7f5e-4f8c-ae2e-3b59a2721351"
      },
      "id": "o06hpkMCbWQI",
      "execution_count": 47,
      "outputs": [
        {
          "output_type": "execute_result",
          "data": {
            "text/plain": [
              "array([49., 36., 25.], dtype=float32)"
            ]
          },
          "metadata": {},
          "execution_count": 47
        }
      ]
    },
    {
      "cell_type": "code",
      "source": [
        "with open('temp.tflite', 'wb') as f:\n",
        "  f.write(tf_jax_sq_lite_model)"
      ],
      "metadata": {
        "id": "TxQYYDV0jP4N"
      },
      "id": "TxQYYDV0jP4N",
      "execution_count": 54,
      "outputs": []
    },
    {
      "cell_type": "markdown",
      "source": [
        "## TFLite → ONNX"
      ],
      "metadata": {
        "id": "7WSLHdcZq-oe"
      },
      "id": "7WSLHdcZq-oe"
    },
    {
      "cell_type": "code",
      "source": [
        "!pip install tf2onnx --quiet"
      ],
      "metadata": {
        "id": "KHbUW1_ui0vS"
      },
      "id": "KHbUW1_ui0vS",
      "execution_count": 51,
      "outputs": []
    },
    {
      "cell_type": "code",
      "source": [
        "import tf2onnx\n",
        "\n",
        "tf2onnx.convert.from_tflite(\n",
        "    tflite_path='temp.tflite',\n",
        "    output_path='temp.onnx'\n",
        ")\n",
        "None"
      ],
      "metadata": {
        "id": "gvK33-05e5Ki"
      },
      "id": "gvK33-05e5Ki",
      "execution_count": 64,
      "outputs": []
    },
    {
      "cell_type": "code",
      "source": [
        "ort_session = onnxruntime.InferenceSession(\"temp.onnx\", providers=[\"CPUExecutionProvider\"])\n",
        "\n",
        "ort_inputs = {'x': np.array([6,5,4], dtype=np.float32)}\n",
        "ort_outs = ort_session.run(None, ort_inputs)\n",
        "\n",
        "ort_outs"
      ],
      "metadata": {
        "colab": {
          "base_uri": "https://localhost:8080/"
        },
        "id": "TuA1yvxzizwO",
        "outputId": "362f7f7b-84d8-4591-8683-6dbd4ffc881d"
      },
      "id": "TuA1yvxzizwO",
      "execution_count": 65,
      "outputs": [
        {
          "output_type": "execute_result",
          "data": {
            "text/plain": [
              "[array([36., 25., 16.], dtype=float32)]"
            ]
          },
          "metadata": {},
          "execution_count": 65
        }
      ]
    },
    {
      "cell_type": "markdown",
      "source": [
        "## ONNX → PyTorch"
      ],
      "metadata": {
        "id": "L9bjsA_irGVZ"
      },
      "id": "L9bjsA_irGVZ"
    },
    {
      "cell_type": "code",
      "source": [
        "!pip install onnx2torch --quiet"
      ],
      "metadata": {
        "id": "R-MnPJ3ikfxD"
      },
      "id": "R-MnPJ3ikfxD",
      "execution_count": 67,
      "outputs": []
    },
    {
      "cell_type": "code",
      "source": [
        "import onnx2torch\n",
        "\n",
        "torch_onnx_sq_module = onnx2torch.convert('temp.onnx')"
      ],
      "metadata": {
        "id": "Hmn6ArQBlx3c"
      },
      "id": "Hmn6ArQBlx3c",
      "execution_count": 70,
      "outputs": []
    },
    {
      "cell_type": "code",
      "source": [
        "torch_onnx_sq_module(torch.tensor([1,9,3,4]))"
      ],
      "metadata": {
        "colab": {
          "base_uri": "https://localhost:8080/"
        },
        "id": "oubQa1aKm83p",
        "outputId": "8afa4e97-cf1b-4b68-d675-65f2cb081023"
      },
      "id": "oubQa1aKm83p",
      "execution_count": 73,
      "outputs": [
        {
          "output_type": "execute_result",
          "data": {
            "text/plain": [
              "tensor([ 1, 81,  9, 16])"
            ]
          },
          "metadata": {},
          "execution_count": 73
        }
      ]
    }
  ],
  "metadata": {
    "kernelspec": {
      "display_name": "Python 3 (ipykernel)",
      "language": "python",
      "name": "python3"
    },
    "language_info": {
      "codemirror_mode": {
        "name": "ipython",
        "version": 3
      },
      "file_extension": ".py",
      "mimetype": "text/x-python",
      "name": "python",
      "nbconvert_exporter": "python",
      "pygments_lexer": "ipython3",
      "version": "3.10.11"
    },
    "colab": {
      "provenance": []
    }
  },
  "nbformat": 4,
  "nbformat_minor": 5
}